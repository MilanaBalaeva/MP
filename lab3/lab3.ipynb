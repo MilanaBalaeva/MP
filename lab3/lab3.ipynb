{
 "cells": [
  {
   "cell_type": "markdown",
   "id": "5fd5fd28",
   "metadata": {},
   "source": [
    "# Лабораторная работа №3"
   ]
  },
  {
   "cell_type": "markdown",
   "id": "24fa900e",
   "metadata": {},
   "source": [
    "Выполнила студентка гр. 9382 Балаева Милана. Вариант 1."
   ]
  },
  {
   "cell_type": "markdown",
   "id": "cc811730",
   "metadata": {},
   "source": [
    "### Цель работы\n",
    "Практическое применение библиотеки символьных вычислений Python (SymPy) для решения задач дискретной математики и математической логики."
   ]
  },
  {
   "cell_type": "markdown",
   "id": "fe99e45f",
   "metadata": {},
   "source": [
    "### Задачи лабораторной работы\n",
    "\n",
    "1. Решить свой вариант диофантова уравнения.\n",
    "2. Имея открытую часть ключа RSA найти соответствующую закрытую часть и расшифровать кодированное слово.\n",
    "3. Записать в формате ДНФ и КНФ булеву функцию, заданную своим аналитическим выражением."
   ]
  },
  {
   "cell_type": "markdown",
   "id": "e5819b28",
   "metadata": {},
   "source": [
    "### Диофантово уравнение"
   ]
  },
  {
   "cell_type": "markdown",
   "id": "37022c66",
   "metadata": {},
   "source": [
    "Вариант 21. Диофантово уравнение: \n",
    "$$4199x−4131y=-34$$"
   ]
  },
  {
   "cell_type": "code",
   "execution_count": 35,
   "id": "941976e4",
   "metadata": {
    "scrolled": true
   },
   "outputs": [
    {
     "name": "stdout",
     "output_type": "stream",
     "text": [
      "x = 243*t_0 - 122\n",
      "y = 247*t_0 - 124 \n"
     ]
    }
   ],
   "source": [
    "from sympy.solvers.diophantine import diophantine\n",
    "from sympy import symbols\n",
    "x, y = symbols('x y')\n",
    "solution = tuple(diophantine(4199*x - 4131*y + 34))[0]\n",
    "print(f\"x = {solution[0]}\\ny = {solution[1]} \")"
   ]
  },
  {
   "cell_type": "markdown",
   "id": "c9623d48",
   "metadata": {},
   "source": [
    "### Имея открытую часть ключа RSA найти соответствующую закрытую часть и расшифровать кодированное слово."
   ]
  },
  {
   "cell_type": "markdown",
   "id": "2369d9d1",
   "metadata": {},
   "source": [
    "Русское слово из четырех букв закодировано при помощи алгоритма RSA открытым ключом (e = 5,m = 46).\n",
    "Шифрованное сообщение имеет вид (27; 42; 7; 25). Подберите закрытую часть ключа и прочитайте исходное слово.\n",
    "Буквам русского алфавита соответсвуют числа в диапазоне от 2 до 32 (исключены буквы “e” и “ъ”)."
   ]
  },
  {
   "cell_type": "code",
   "execution_count": 36,
   "id": "e22f3086",
   "metadata": {},
   "outputs": [
    {
     "name": "stdout",
     "output_type": "stream",
     "text": [
      "13 10 15 29\n"
     ]
    }
   ],
   "source": [
    "from sympy.crypto.crypto import rsa_private_key\n",
    "from sympy.crypto.crypto import decipher_rsa, encipher_rsa\n",
    "\n",
    "\n",
    "alphabet =['а', 'б', 'в', 'г', 'д', 'е', 'ж', 'з', 'и', 'й', 'к', 'л', 'м', 'н', 'о', 'п',\n",
    "           'р', 'с', 'т', 'у', 'ф', 'х', 'ц', 'ч', 'ш', 'щ', 'ы', 'ь', 'э', 'ю', 'я']\n",
    "print(decipher_rsa(27, rsa_private_key(46,5)), decipher_rsa(42, rsa_private_key(46,5)), \n",
    "      decipher_rsa(7, rsa_private_key(46,5)), decipher_rsa(25,rsa_private_key(46,5)))\n"
   ]
  },
  {
   "cell_type": "code",
   "execution_count": 37,
   "id": "ac85a382",
   "metadata": {},
   "outputs": [
    {
     "name": "stdout",
     "output_type": "stream",
     "text": [
      "Ответ : линь\n"
     ]
    }
   ],
   "source": [
    " answer = [alphabet[decipher_rsa(i, key)-2] for i in symb]\n",
    "print(f\"Ответ : {''.join(answer)}\")"
   ]
  },
  {
   "cell_type": "markdown",
   "id": "bb0a06fc",
   "metadata": {},
   "source": [
    "### Записать в формате ДНФ и КНФ булеву функцию, заданную аналитическим выражением."
   ]
  },
  {
   "cell_type": "markdown",
   "id": "976b15b4",
   "metadata": {},
   "source": [
    "Вариант 31. \n",
    "$$f(x, y, z) = (((y) xor (z))z) ∨ ((xy) xor (x ∨ y)):$$"
   ]
  },
  {
   "cell_type": "code",
   "execution_count": 41,
   "id": "1bab0397",
   "metadata": {},
   "outputs": [
    {
     "name": "stdout",
     "output_type": "stream",
     "text": [
      "КНФ :  (x | y | z) & (~x | ~y)\n",
      "ДНФ :  (x & ~y) | (y & ~x) | (z & ~x)\n"
     ]
    }
   ],
   "source": [
    "DNF = sympy.to_dnf(sympify(\"((y^z)&z)|((x&y)^(x|y))\", convert_xor=False), simplify=True)\n",
    "CNF = sympy.to_cnf(sympify(\"((y^z)&z)|((x&y)^(x|y))\", convert_xor=False), simplify=True)\n",
    "print(\"КНФ : \", CNF)\n",
    "print(\"ДНФ : \", DNF)"
   ]
  },
  {
   "cell_type": "markdown",
   "id": "9d980460",
   "metadata": {},
   "source": [
    "### Вывод.\n",
    "Были изучены и применены на практике библиотеки символьных вычислений Python (SymPy) для решения задач дискретной математики и математической логики.\n"
   ]
  }
 ],
 "metadata": {
  "kernelspec": {
   "display_name": "Python 3",
   "language": "python",
   "name": "python3"
  },
  "language_info": {
   "codemirror_mode": {
    "name": "ipython",
    "version": 3
   },
   "file_extension": ".py",
   "mimetype": "text/x-python",
   "name": "python",
   "nbconvert_exporter": "python",
   "pygments_lexer": "ipython3",
   "version": "3.8.8"
  }
 },
 "nbformat": 4,
 "nbformat_minor": 5
}
